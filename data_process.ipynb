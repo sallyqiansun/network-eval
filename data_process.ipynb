{
 "cells": [
  {
   "cell_type": "code",
   "execution_count": 18,
   "id": "8a436f8e",
   "metadata": {},
   "outputs": [],
   "source": [
    "import numpy as np\n",
    "from data_process import *\n",
    "import networkx as nx"
   ]
  },
  {
   "cell_type": "markdown",
   "id": "681779f2",
   "metadata": {},
   "source": [
    "# Cora"
   ]
  },
  {
   "cell_type": "code",
   "execution_count": 19,
   "id": "fa2355ce",
   "metadata": {},
   "outputs": [],
   "source": [
    "G = nx.Graph()\n",
    "with open('data/cora/cora.content','r') as f:\n",
    "    Lines=[x.strip().split('\\t') for x in f]\n",
    "for i in range(len(Lines)):\n",
    "    lines = Lines[i]\n",
    "    node = int(lines[0])\n",
    "    features = list(map(int, lines[1:-1]))\n",
    "    label = lines[-1]\n",
    "    G.add_node(node, feature = features, label = label)"
   ]
  },
  {
   "cell_type": "code",
   "execution_count": 20,
   "id": "1066a32a",
   "metadata": {},
   "outputs": [],
   "source": [
    "with open('data/cora/cora.cites','r') as f:\n",
    "    Lines=[x.strip().split('\\t') for x in f]\n",
    "for i in range(len(Lines)):\n",
    "    lines = Lines[i]\n",
    "    G.add_edge(int(lines[0]), int(lines[1]), weight=1)"
   ]
  },
  {
   "cell_type": "code",
   "execution_count": 21,
   "id": "41896ba6",
   "metadata": {},
   "outputs": [],
   "source": [
    "nx.write_gpickle(G, \"data/cora.gpickle\")"
   ]
  },
  {
   "cell_type": "code",
   "execution_count": 16,
   "id": "381454b1",
   "metadata": {},
   "outputs": [
    {
     "data": {
      "text/plain": [
       "array([[0, 0, 0, ..., 0, 0, 0],\n",
       "       [0, 0, 0, ..., 0, 0, 0],\n",
       "       [0, 0, 0, ..., 0, 0, 0],\n",
       "       ...,\n",
       "       [0, 0, 0, ..., 0, 0, 0],\n",
       "       [0, 0, 0, ..., 0, 0, 0],\n",
       "       [0, 0, 0, ..., 0, 0, 0]])"
      ]
     },
     "execution_count": 16,
     "metadata": {},
     "output_type": "execute_result"
    }
   ],
   "source": [
    "feat = nx.get_node_attributes(G, \"feature\")\n",
    "import numpy as np\n",
    "a = np.array(list(feat.values()))"
   ]
  },
  {
   "cell_type": "markdown",
   "id": "41fc22cb",
   "metadata": {},
   "source": [
    "# Homo-sapiens PPI "
   ]
  },
  {
   "cell_type": "code",
   "execution_count": null,
   "id": "04885e78",
   "metadata": {},
   "outputs": [],
   "source": [
    "ppi = np.load(\"data/ppi/homo_sapiens.npz\")"
   ]
  },
  {
   "cell_type": "code",
   "execution_count": null,
   "id": "295f61e4",
   "metadata": {},
   "outputs": [],
   "source": [
    "G = nx.Graph()\n",
    "G.add_edges_from(ppi[\"edge_list\"])"
   ]
  },
  {
   "cell_type": "code",
   "execution_count": null,
   "id": "4c1afcc8",
   "metadata": {},
   "outputs": [],
   "source": [
    "df = pd.DataFrame(ppi[\"group\"])\n",
    "num = np.arange(1, 51)\n",
    "df.columns = [str(i) for i in np.arange(1, 51)]"
   ]
  },
  {
   "cell_type": "code",
   "execution_count": null,
   "id": "77eeacbf",
   "metadata": {},
   "outputs": [],
   "source": [
    "df['label'] = df.idxmax(axis=1)"
   ]
  },
  {
   "cell_type": "code",
   "execution_count": null,
   "id": "c50cc3e4",
   "metadata": {},
   "outputs": [],
   "source": [
    "df.index.name = 'id'"
   ]
  },
  {
   "cell_type": "code",
   "execution_count": null,
   "id": "fa95a884",
   "metadata": {},
   "outputs": [],
   "source": [
    "df"
   ]
  },
  {
   "cell_type": "code",
   "execution_count": null,
   "id": "fc3b7262",
   "metadata": {},
   "outputs": [],
   "source": [
    "nx.set_node_attributes(G, pd.Series(df.label, index=df.index).to_dict(), 'label')"
   ]
  },
  {
   "cell_type": "code",
   "execution_count": null,
   "id": "9252a00f",
   "metadata": {},
   "outputs": [],
   "source": [
    "nx.set_edge_attributes(G, values = 1, name = 'weight')"
   ]
  },
  {
   "cell_type": "code",
   "execution_count": null,
   "id": "3e0673fc",
   "metadata": {},
   "outputs": [],
   "source": [
    "nx.write_gpickle(G, \"data/ppi.gpickle\")"
   ]
  },
  {
   "cell_type": "markdown",
   "id": "d5403575",
   "metadata": {},
   "source": [
    "# CiteSeer"
   ]
  },
  {
   "cell_type": "code",
   "execution_count": null,
   "id": "43658302",
   "metadata": {
    "scrolled": true
   },
   "outputs": [],
   "source": [
    "f = open(\"data/citeseer/citeseer.content\", \"r\")\n",
    "Lines = f.readlines()"
   ]
  },
  {
   "cell_type": "code",
   "execution_count": null,
   "id": "f27c79ea",
   "metadata": {},
   "outputs": [],
   "source": [
    "labels = {}\n",
    "for line in Lines:\n",
    "    labels[line.split()[0]] = line.split()[-1]"
   ]
  },
  {
   "cell_type": "code",
   "execution_count": null,
   "id": "63b3399b",
   "metadata": {},
   "outputs": [],
   "source": [
    "f = open(\"data/citeseer/citeseer.cites\", \"r\")\n",
    "Lines = f.readlines()"
   ]
  },
  {
   "cell_type": "code",
   "execution_count": null,
   "id": "41fe8ffa",
   "metadata": {},
   "outputs": [],
   "source": [
    "edges = []\n",
    "for line in Lines:\n",
    "    edges.append([line.split()[0], line.split()[1]])"
   ]
  },
  {
   "cell_type": "code",
   "execution_count": null,
   "id": "6f40fa47",
   "metadata": {},
   "outputs": [],
   "source": [
    "G = nx.Graph()\n",
    "G.add_edges_from(edges)\n",
    "nx.set_node_attributes(G, labels, \"label\")\n",
    "nx.set_edge_attributes(G, values = 1, name = 'weight')"
   ]
  },
  {
   "cell_type": "code",
   "execution_count": null,
   "id": "3912e048",
   "metadata": {},
   "outputs": [],
   "source": [
    "nx.write_gpickle(G, \"data/citeseer.gpickle\")"
   ]
  },
  {
   "cell_type": "markdown",
   "id": "f33e27da",
   "metadata": {},
   "source": [
    "# Pubmed Diabetes"
   ]
  },
  {
   "cell_type": "code",
   "execution_count": null,
   "id": "81fbbbe8",
   "metadata": {},
   "outputs": [],
   "source": [
    "with open('data/pubmed/Pubmed-Diabetes.NODE.paper.tab','r') as f:\n",
    "    Lines=[x.strip().split('\\t') for x in f]"
   ]
  },
  {
   "cell_type": "code",
   "execution_count": null,
   "id": "a74cc901",
   "metadata": {},
   "outputs": [],
   "source": [
    "labels = {}\n",
    "for line in Lines[2:]:\n",
    "    labels[line[0]] = line[1][line[1].find(\"=\")+1:]"
   ]
  },
  {
   "cell_type": "code",
   "execution_count": null,
   "id": "d483ce01",
   "metadata": {},
   "outputs": [],
   "source": [
    "with open('data/pubmed/Pubmed-Diabetes.DIRECTED.cites.tab','r') as f:\n",
    "    Lines=[x.strip().split('\\t') for x in f]"
   ]
  },
  {
   "cell_type": "code",
   "execution_count": null,
   "id": "d4d1babc",
   "metadata": {},
   "outputs": [],
   "source": [
    "edges = []\n",
    "for line in Lines[2:]:\n",
    "    edges.append([line[1][line[1].find(\":\")+1:], line[3][line[3].find(\":\")+1:]])"
   ]
  },
  {
   "cell_type": "code",
   "execution_count": null,
   "id": "30200f72",
   "metadata": {},
   "outputs": [],
   "source": [
    "G = nx.Graph()\n",
    "G.add_edges_from(edges)\n",
    "nx.set_node_attributes(G, labels, \"label\")\n",
    "nx.set_edge_attributes(G, values = 1, name = 'weight')"
   ]
  },
  {
   "cell_type": "code",
   "execution_count": null,
   "id": "34f6233c",
   "metadata": {},
   "outputs": [],
   "source": [
    "nx.write_gpickle(G, \"data/pubmed.gpickle\")"
   ]
  },
  {
   "cell_type": "markdown",
   "id": "e0d304b4",
   "metadata": {},
   "source": [
    "# Amazon Co-Purchase"
   ]
  },
  {
   "cell_type": "code",
   "execution_count": null,
   "id": "10912cbe",
   "metadata": {},
   "outputs": [],
   "source": [
    "computers = np.load(\"data/amazon/amazon_electronics_computers.npz\")"
   ]
  },
  {
   "cell_type": "code",
   "execution_count": null,
   "id": "7bcfeb1c",
   "metadata": {},
   "outputs": [],
   "source": [
    "# import dgl\n",
    "# dataset = dgl.data.AmazonCoBuyComputerDataset()"
   ]
  },
  {
   "cell_type": "code",
   "execution_count": null,
   "id": "8c071257",
   "metadata": {},
   "outputs": [],
   "source": [
    "G = nx.Graph(dgl.to_networkx(dataset[0], node_attrs=graph.ndata, edge_attrs=graph.edata))"
   ]
  },
  {
   "cell_type": "code",
   "execution_count": null,
   "id": "694a74ee",
   "metadata": {},
   "outputs": [],
   "source": [
    "for k in nx.get_node_attributes(G, 'label').keys():\n",
    "    label = nx.get_node_attributes(G, 'label')[k].cpu().detach().numpy().flatten()[0]\n",
    "    G.nodes[k]['label'] = label"
   ]
  },
  {
   "cell_type": "code",
   "execution_count": null,
   "id": "a90e329c",
   "metadata": {},
   "outputs": [],
   "source": [
    "nx.write_gpickle(G, \"data/amazon.gpickle\")"
   ]
  },
  {
   "cell_type": "markdown",
   "id": "985b81e7",
   "metadata": {},
   "source": [
    "# BlogCatalog3"
   ]
  },
  {
   "cell_type": "code",
   "execution_count": null,
   "id": "95a0dc26",
   "metadata": {},
   "outputs": [],
   "source": [
    "file = open(\"data/blogcatalog/edges.csv\", \"r\")"
   ]
  },
  {
   "cell_type": "code",
   "execution_count": null,
   "id": "544ec581",
   "metadata": {},
   "outputs": [],
   "source": [
    "csvreader = csv.reader(file)"
   ]
  },
  {
   "cell_type": "code",
   "execution_count": null,
   "id": "5f1b553b",
   "metadata": {},
   "outputs": [],
   "source": [
    "edges = []\n",
    "for row in csvreader:\n",
    "    edges.append(row)"
   ]
  },
  {
   "cell_type": "code",
   "execution_count": null,
   "id": "0091f707",
   "metadata": {},
   "outputs": [],
   "source": [
    "file = open(\"data/blogcatalog/group-edges.csv\", \"r\")"
   ]
  },
  {
   "cell_type": "code",
   "execution_count": null,
   "id": "8e76dce3",
   "metadata": {},
   "outputs": [],
   "source": [
    "csvreader = csv.reader(file)"
   ]
  },
  {
   "cell_type": "code",
   "execution_count": null,
   "id": "40c30434",
   "metadata": {},
   "outputs": [],
   "source": [
    "labels = {}\n",
    "for row in csvreader:\n",
    "    labels[row[0]] = row[1]"
   ]
  },
  {
   "cell_type": "code",
   "execution_count": null,
   "id": "4fa41f50",
   "metadata": {},
   "outputs": [],
   "source": [
    "G = nx.Graph()\n",
    "G.add_edges_from(edges)\n",
    "nx.set_node_attributes(G, labels, \"label\")\n",
    "nx.set_edge_attributes(G, values = 1, name = 'weight')"
   ]
  },
  {
   "cell_type": "code",
   "execution_count": null,
   "id": "9aee9815",
   "metadata": {},
   "outputs": [],
   "source": [
    "nx.write_gpickle(G, \"data/blogcatalog.gpickle\")"
   ]
  },
  {
   "cell_type": "markdown",
   "id": "60b4c5e7",
   "metadata": {},
   "source": [
    "# Github"
   ]
  },
  {
   "cell_type": "code",
   "execution_count": null,
   "id": "c8d712b5",
   "metadata": {},
   "outputs": [],
   "source": [
    "github = np.load(\"data/github/github.npz\")"
   ]
  },
  {
   "cell_type": "code",
   "execution_count": null,
   "id": "f07d3dd5",
   "metadata": {},
   "outputs": [],
   "source": [
    "G = nx.Graph()\n",
    "G.add_edges_from(github[\"edges\"])"
   ]
  },
  {
   "cell_type": "code",
   "execution_count": null,
   "id": "a7960a71",
   "metadata": {},
   "outputs": [],
   "source": [
    "df = pd.DataFrame(github[\"target\"])\n",
    "df.columns = [\"label\"]"
   ]
  },
  {
   "cell_type": "code",
   "execution_count": null,
   "id": "fa567649",
   "metadata": {},
   "outputs": [],
   "source": [
    "features = pd.DataFrame(pd.np.column_stack([github[\"features\"]])).T.to_dict('list')"
   ]
  },
  {
   "cell_type": "code",
   "execution_count": null,
   "id": "9f4b679a",
   "metadata": {},
   "outputs": [],
   "source": [
    "nx.set_node_attributes(G, pd.Series(df.label, index=df.index).to_dict(), 'label')"
   ]
  },
  {
   "cell_type": "code",
   "execution_count": null,
   "id": "e7a45bf7",
   "metadata": {},
   "outputs": [],
   "source": [
    "nx.set_node_attributes(G, features, \"features\")"
   ]
  },
  {
   "cell_type": "code",
   "execution_count": null,
   "id": "80cf9886",
   "metadata": {},
   "outputs": [],
   "source": [
    "nx.set_edge_attributes(G, values = 1, name = 'weight')"
   ]
  },
  {
   "cell_type": "code",
   "execution_count": null,
   "id": "800341dd",
   "metadata": {},
   "outputs": [],
   "source": [
    "nx.write_gpickle(G, \"data/github.gpickle\")"
   ]
  },
  {
   "cell_type": "code",
   "execution_count": null,
   "id": "d6f061f4",
   "metadata": {},
   "outputs": [],
   "source": []
  }
 ],
 "metadata": {
  "kernelspec": {
   "display_name": "Python 3",
   "language": "python",
   "name": "python3"
  },
  "language_info": {
   "codemirror_mode": {
    "name": "ipython",
    "version": 3
   },
   "file_extension": ".py",
   "mimetype": "text/x-python",
   "name": "python",
   "nbconvert_exporter": "python",
   "pygments_lexer": "ipython3",
   "version": "3.7.10"
  }
 },
 "nbformat": 4,
 "nbformat_minor": 5
}
