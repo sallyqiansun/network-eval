{
 "cells": [
  {
   "cell_type": "code",
   "execution_count": 1,
   "id": "8a436f8e",
   "metadata": {},
   "outputs": [],
   "source": [
    "import numpy as np\n",
    "from data_process import *\n",
    "import networkx as nx"
   ]
  },
  {
   "cell_type": "markdown",
   "id": "41fc22cb",
   "metadata": {},
   "source": [
    "# Homo-sapiens PPI "
   ]
  },
  {
   "cell_type": "code",
   "execution_count": 2,
   "id": "04885e78",
   "metadata": {},
   "outputs": [],
   "source": [
    "ppi = np.load(\"data/ppi/homo_sapiens.npz\")"
   ]
  },
  {
   "cell_type": "code",
   "execution_count": 3,
   "id": "295f61e4",
   "metadata": {},
   "outputs": [],
   "source": [
    "G = nx.Graph()\n",
    "G.add_edges_from(ppi[\"edge_list\"])"
   ]
  },
  {
   "cell_type": "code",
   "execution_count": 4,
   "id": "4c1afcc8",
   "metadata": {},
   "outputs": [],
   "source": [
    "df = pd.DataFrame(ppi[\"group\"])\n",
    "num = np.arange(1, 51)\n",
    "df.columns = [str(i) for i in np.arange(1, 51)]"
   ]
  },
  {
   "cell_type": "code",
   "execution_count": 5,
   "id": "77eeacbf",
   "metadata": {},
   "outputs": [],
   "source": [
    "df['label'] = df.idxmax(axis=1)"
   ]
  },
  {
   "cell_type": "code",
   "execution_count": 6,
   "id": "c50cc3e4",
   "metadata": {},
   "outputs": [],
   "source": [
    "df.index.name = 'id'"
   ]
  },
  {
   "cell_type": "code",
   "execution_count": 7,
   "id": "fa95a884",
   "metadata": {},
   "outputs": [
    {
     "data": {
      "text/html": [
       "<div>\n",
       "<style scoped>\n",
       "    .dataframe tbody tr th:only-of-type {\n",
       "        vertical-align: middle;\n",
       "    }\n",
       "\n",
       "    .dataframe tbody tr th {\n",
       "        vertical-align: top;\n",
       "    }\n",
       "\n",
       "    .dataframe thead th {\n",
       "        text-align: right;\n",
       "    }\n",
       "</style>\n",
       "<table border=\"1\" class=\"dataframe\">\n",
       "  <thead>\n",
       "    <tr style=\"text-align: right;\">\n",
       "      <th></th>\n",
       "      <th>1</th>\n",
       "      <th>2</th>\n",
       "      <th>3</th>\n",
       "      <th>4</th>\n",
       "      <th>5</th>\n",
       "      <th>6</th>\n",
       "      <th>7</th>\n",
       "      <th>8</th>\n",
       "      <th>9</th>\n",
       "      <th>10</th>\n",
       "      <th>...</th>\n",
       "      <th>42</th>\n",
       "      <th>43</th>\n",
       "      <th>44</th>\n",
       "      <th>45</th>\n",
       "      <th>46</th>\n",
       "      <th>47</th>\n",
       "      <th>48</th>\n",
       "      <th>49</th>\n",
       "      <th>50</th>\n",
       "      <th>label</th>\n",
       "    </tr>\n",
       "    <tr>\n",
       "      <th>id</th>\n",
       "      <th></th>\n",
       "      <th></th>\n",
       "      <th></th>\n",
       "      <th></th>\n",
       "      <th></th>\n",
       "      <th></th>\n",
       "      <th></th>\n",
       "      <th></th>\n",
       "      <th></th>\n",
       "      <th></th>\n",
       "      <th></th>\n",
       "      <th></th>\n",
       "      <th></th>\n",
       "      <th></th>\n",
       "      <th></th>\n",
       "      <th></th>\n",
       "      <th></th>\n",
       "      <th></th>\n",
       "      <th></th>\n",
       "      <th></th>\n",
       "      <th></th>\n",
       "    </tr>\n",
       "  </thead>\n",
       "  <tbody>\n",
       "    <tr>\n",
       "      <th>0</th>\n",
       "      <td>0.0</td>\n",
       "      <td>0.0</td>\n",
       "      <td>0.0</td>\n",
       "      <td>0.0</td>\n",
       "      <td>0.0</td>\n",
       "      <td>1.0</td>\n",
       "      <td>0.0</td>\n",
       "      <td>0.0</td>\n",
       "      <td>0.0</td>\n",
       "      <td>0.0</td>\n",
       "      <td>...</td>\n",
       "      <td>0.0</td>\n",
       "      <td>0.0</td>\n",
       "      <td>0.0</td>\n",
       "      <td>0.0</td>\n",
       "      <td>1.0</td>\n",
       "      <td>0.0</td>\n",
       "      <td>0.0</td>\n",
       "      <td>0.0</td>\n",
       "      <td>0.0</td>\n",
       "      <td>6</td>\n",
       "    </tr>\n",
       "    <tr>\n",
       "      <th>1</th>\n",
       "      <td>0.0</td>\n",
       "      <td>0.0</td>\n",
       "      <td>0.0</td>\n",
       "      <td>0.0</td>\n",
       "      <td>0.0</td>\n",
       "      <td>0.0</td>\n",
       "      <td>0.0</td>\n",
       "      <td>0.0</td>\n",
       "      <td>0.0</td>\n",
       "      <td>0.0</td>\n",
       "      <td>...</td>\n",
       "      <td>0.0</td>\n",
       "      <td>0.0</td>\n",
       "      <td>0.0</td>\n",
       "      <td>0.0</td>\n",
       "      <td>0.0</td>\n",
       "      <td>0.0</td>\n",
       "      <td>0.0</td>\n",
       "      <td>0.0</td>\n",
       "      <td>0.0</td>\n",
       "      <td>30</td>\n",
       "    </tr>\n",
       "    <tr>\n",
       "      <th>2</th>\n",
       "      <td>0.0</td>\n",
       "      <td>0.0</td>\n",
       "      <td>0.0</td>\n",
       "      <td>0.0</td>\n",
       "      <td>1.0</td>\n",
       "      <td>0.0</td>\n",
       "      <td>0.0</td>\n",
       "      <td>0.0</td>\n",
       "      <td>0.0</td>\n",
       "      <td>0.0</td>\n",
       "      <td>...</td>\n",
       "      <td>0.0</td>\n",
       "      <td>0.0</td>\n",
       "      <td>0.0</td>\n",
       "      <td>0.0</td>\n",
       "      <td>0.0</td>\n",
       "      <td>0.0</td>\n",
       "      <td>0.0</td>\n",
       "      <td>0.0</td>\n",
       "      <td>0.0</td>\n",
       "      <td>5</td>\n",
       "    </tr>\n",
       "    <tr>\n",
       "      <th>3</th>\n",
       "      <td>0.0</td>\n",
       "      <td>0.0</td>\n",
       "      <td>0.0</td>\n",
       "      <td>0.0</td>\n",
       "      <td>0.0</td>\n",
       "      <td>0.0</td>\n",
       "      <td>0.0</td>\n",
       "      <td>0.0</td>\n",
       "      <td>0.0</td>\n",
       "      <td>0.0</td>\n",
       "      <td>...</td>\n",
       "      <td>0.0</td>\n",
       "      <td>0.0</td>\n",
       "      <td>0.0</td>\n",
       "      <td>0.0</td>\n",
       "      <td>0.0</td>\n",
       "      <td>0.0</td>\n",
       "      <td>0.0</td>\n",
       "      <td>0.0</td>\n",
       "      <td>0.0</td>\n",
       "      <td>30</td>\n",
       "    </tr>\n",
       "    <tr>\n",
       "      <th>4</th>\n",
       "      <td>0.0</td>\n",
       "      <td>1.0</td>\n",
       "      <td>0.0</td>\n",
       "      <td>0.0</td>\n",
       "      <td>0.0</td>\n",
       "      <td>0.0</td>\n",
       "      <td>0.0</td>\n",
       "      <td>0.0</td>\n",
       "      <td>1.0</td>\n",
       "      <td>0.0</td>\n",
       "      <td>...</td>\n",
       "      <td>0.0</td>\n",
       "      <td>0.0</td>\n",
       "      <td>0.0</td>\n",
       "      <td>0.0</td>\n",
       "      <td>0.0</td>\n",
       "      <td>0.0</td>\n",
       "      <td>0.0</td>\n",
       "      <td>0.0</td>\n",
       "      <td>0.0</td>\n",
       "      <td>2</td>\n",
       "    </tr>\n",
       "    <tr>\n",
       "      <th>...</th>\n",
       "      <td>...</td>\n",
       "      <td>...</td>\n",
       "      <td>...</td>\n",
       "      <td>...</td>\n",
       "      <td>...</td>\n",
       "      <td>...</td>\n",
       "      <td>...</td>\n",
       "      <td>...</td>\n",
       "      <td>...</td>\n",
       "      <td>...</td>\n",
       "      <td>...</td>\n",
       "      <td>...</td>\n",
       "      <td>...</td>\n",
       "      <td>...</td>\n",
       "      <td>...</td>\n",
       "      <td>...</td>\n",
       "      <td>...</td>\n",
       "      <td>...</td>\n",
       "      <td>...</td>\n",
       "      <td>...</td>\n",
       "      <td>...</td>\n",
       "    </tr>\n",
       "    <tr>\n",
       "      <th>3847</th>\n",
       "      <td>0.0</td>\n",
       "      <td>1.0</td>\n",
       "      <td>0.0</td>\n",
       "      <td>0.0</td>\n",
       "      <td>0.0</td>\n",
       "      <td>0.0</td>\n",
       "      <td>0.0</td>\n",
       "      <td>0.0</td>\n",
       "      <td>0.0</td>\n",
       "      <td>0.0</td>\n",
       "      <td>...</td>\n",
       "      <td>0.0</td>\n",
       "      <td>0.0</td>\n",
       "      <td>0.0</td>\n",
       "      <td>0.0</td>\n",
       "      <td>0.0</td>\n",
       "      <td>0.0</td>\n",
       "      <td>0.0</td>\n",
       "      <td>0.0</td>\n",
       "      <td>0.0</td>\n",
       "      <td>2</td>\n",
       "    </tr>\n",
       "    <tr>\n",
       "      <th>3848</th>\n",
       "      <td>0.0</td>\n",
       "      <td>0.0</td>\n",
       "      <td>0.0</td>\n",
       "      <td>0.0</td>\n",
       "      <td>0.0</td>\n",
       "      <td>0.0</td>\n",
       "      <td>0.0</td>\n",
       "      <td>0.0</td>\n",
       "      <td>0.0</td>\n",
       "      <td>0.0</td>\n",
       "      <td>...</td>\n",
       "      <td>0.0</td>\n",
       "      <td>0.0</td>\n",
       "      <td>0.0</td>\n",
       "      <td>0.0</td>\n",
       "      <td>0.0</td>\n",
       "      <td>0.0</td>\n",
       "      <td>0.0</td>\n",
       "      <td>0.0</td>\n",
       "      <td>0.0</td>\n",
       "      <td>26</td>\n",
       "    </tr>\n",
       "    <tr>\n",
       "      <th>3849</th>\n",
       "      <td>0.0</td>\n",
       "      <td>0.0</td>\n",
       "      <td>0.0</td>\n",
       "      <td>1.0</td>\n",
       "      <td>0.0</td>\n",
       "      <td>0.0</td>\n",
       "      <td>0.0</td>\n",
       "      <td>1.0</td>\n",
       "      <td>0.0</td>\n",
       "      <td>0.0</td>\n",
       "      <td>...</td>\n",
       "      <td>0.0</td>\n",
       "      <td>0.0</td>\n",
       "      <td>0.0</td>\n",
       "      <td>0.0</td>\n",
       "      <td>0.0</td>\n",
       "      <td>0.0</td>\n",
       "      <td>0.0</td>\n",
       "      <td>0.0</td>\n",
       "      <td>0.0</td>\n",
       "      <td>4</td>\n",
       "    </tr>\n",
       "    <tr>\n",
       "      <th>3850</th>\n",
       "      <td>0.0</td>\n",
       "      <td>0.0</td>\n",
       "      <td>0.0</td>\n",
       "      <td>0.0</td>\n",
       "      <td>0.0</td>\n",
       "      <td>0.0</td>\n",
       "      <td>0.0</td>\n",
       "      <td>0.0</td>\n",
       "      <td>0.0</td>\n",
       "      <td>0.0</td>\n",
       "      <td>...</td>\n",
       "      <td>0.0</td>\n",
       "      <td>0.0</td>\n",
       "      <td>0.0</td>\n",
       "      <td>0.0</td>\n",
       "      <td>0.0</td>\n",
       "      <td>0.0</td>\n",
       "      <td>0.0</td>\n",
       "      <td>0.0</td>\n",
       "      <td>0.0</td>\n",
       "      <td>34</td>\n",
       "    </tr>\n",
       "    <tr>\n",
       "      <th>3851</th>\n",
       "      <td>0.0</td>\n",
       "      <td>0.0</td>\n",
       "      <td>0.0</td>\n",
       "      <td>0.0</td>\n",
       "      <td>0.0</td>\n",
       "      <td>0.0</td>\n",
       "      <td>0.0</td>\n",
       "      <td>0.0</td>\n",
       "      <td>0.0</td>\n",
       "      <td>0.0</td>\n",
       "      <td>...</td>\n",
       "      <td>0.0</td>\n",
       "      <td>0.0</td>\n",
       "      <td>0.0</td>\n",
       "      <td>0.0</td>\n",
       "      <td>0.0</td>\n",
       "      <td>0.0</td>\n",
       "      <td>0.0</td>\n",
       "      <td>0.0</td>\n",
       "      <td>0.0</td>\n",
       "      <td>37</td>\n",
       "    </tr>\n",
       "  </tbody>\n",
       "</table>\n",
       "<p>3852 rows × 51 columns</p>\n",
       "</div>"
      ],
      "text/plain": [
       "        1    2    3    4    5    6    7    8    9   10  ...   42   43   44  \\\n",
       "id                                                      ...                  \n",
       "0     0.0  0.0  0.0  0.0  0.0  1.0  0.0  0.0  0.0  0.0  ...  0.0  0.0  0.0   \n",
       "1     0.0  0.0  0.0  0.0  0.0  0.0  0.0  0.0  0.0  0.0  ...  0.0  0.0  0.0   \n",
       "2     0.0  0.0  0.0  0.0  1.0  0.0  0.0  0.0  0.0  0.0  ...  0.0  0.0  0.0   \n",
       "3     0.0  0.0  0.0  0.0  0.0  0.0  0.0  0.0  0.0  0.0  ...  0.0  0.0  0.0   \n",
       "4     0.0  1.0  0.0  0.0  0.0  0.0  0.0  0.0  1.0  0.0  ...  0.0  0.0  0.0   \n",
       "...   ...  ...  ...  ...  ...  ...  ...  ...  ...  ...  ...  ...  ...  ...   \n",
       "3847  0.0  1.0  0.0  0.0  0.0  0.0  0.0  0.0  0.0  0.0  ...  0.0  0.0  0.0   \n",
       "3848  0.0  0.0  0.0  0.0  0.0  0.0  0.0  0.0  0.0  0.0  ...  0.0  0.0  0.0   \n",
       "3849  0.0  0.0  0.0  1.0  0.0  0.0  0.0  1.0  0.0  0.0  ...  0.0  0.0  0.0   \n",
       "3850  0.0  0.0  0.0  0.0  0.0  0.0  0.0  0.0  0.0  0.0  ...  0.0  0.0  0.0   \n",
       "3851  0.0  0.0  0.0  0.0  0.0  0.0  0.0  0.0  0.0  0.0  ...  0.0  0.0  0.0   \n",
       "\n",
       "       45   46   47   48   49   50  label  \n",
       "id                                         \n",
       "0     0.0  1.0  0.0  0.0  0.0  0.0      6  \n",
       "1     0.0  0.0  0.0  0.0  0.0  0.0     30  \n",
       "2     0.0  0.0  0.0  0.0  0.0  0.0      5  \n",
       "3     0.0  0.0  0.0  0.0  0.0  0.0     30  \n",
       "4     0.0  0.0  0.0  0.0  0.0  0.0      2  \n",
       "...   ...  ...  ...  ...  ...  ...    ...  \n",
       "3847  0.0  0.0  0.0  0.0  0.0  0.0      2  \n",
       "3848  0.0  0.0  0.0  0.0  0.0  0.0     26  \n",
       "3849  0.0  0.0  0.0  0.0  0.0  0.0      4  \n",
       "3850  0.0  0.0  0.0  0.0  0.0  0.0     34  \n",
       "3851  0.0  0.0  0.0  0.0  0.0  0.0     37  \n",
       "\n",
       "[3852 rows x 51 columns]"
      ]
     },
     "execution_count": 7,
     "metadata": {},
     "output_type": "execute_result"
    }
   ],
   "source": [
    "df"
   ]
  },
  {
   "cell_type": "code",
   "execution_count": 8,
   "id": "fc3b7262",
   "metadata": {},
   "outputs": [],
   "source": [
    "nx.set_node_attributes(G, pd.Series(df.label, index=df.index).to_dict(), 'label')"
   ]
  },
  {
   "cell_type": "code",
   "execution_count": 9,
   "id": "9252a00f",
   "metadata": {},
   "outputs": [],
   "source": [
    "nx.set_edge_attributes(G, values = 1, name = 'weight')"
   ]
  },
  {
   "cell_type": "code",
   "execution_count": 10,
   "id": "3e0673fc",
   "metadata": {},
   "outputs": [],
   "source": [
    "nx.write_gpickle(G, \"data/ppi.gpickle\")"
   ]
  },
  {
   "cell_type": "markdown",
   "id": "d5403575",
   "metadata": {},
   "source": [
    "# CiteSeer"
   ]
  },
  {
   "cell_type": "code",
   "execution_count": 11,
   "id": "43658302",
   "metadata": {
    "scrolled": true
   },
   "outputs": [],
   "source": [
    "f = open(\"data/citeseer/citeseer.content\", \"r\")\n",
    "Lines = f.readlines()"
   ]
  },
  {
   "cell_type": "code",
   "execution_count": 12,
   "id": "f27c79ea",
   "metadata": {},
   "outputs": [],
   "source": [
    "labels = {}\n",
    "for line in Lines:\n",
    "    labels[line.split()[0]] = line.split()[-1]"
   ]
  },
  {
   "cell_type": "code",
   "execution_count": 13,
   "id": "63b3399b",
   "metadata": {},
   "outputs": [],
   "source": [
    "f = open(\"data/citeseer/citeseer.cites\", \"r\")\n",
    "Lines = f.readlines()"
   ]
  },
  {
   "cell_type": "code",
   "execution_count": 14,
   "id": "41fe8ffa",
   "metadata": {},
   "outputs": [],
   "source": [
    "edges = []\n",
    "for line in Lines:\n",
    "    edges.append([line.split()[0], line.split()[1]])"
   ]
  },
  {
   "cell_type": "code",
   "execution_count": 15,
   "id": "6f40fa47",
   "metadata": {},
   "outputs": [],
   "source": [
    "G = nx.Graph()\n",
    "G.add_edges_from(edges)\n",
    "nx.set_node_attributes(G, labels, \"label\")\n",
    "nx.set_edge_attributes(G, values = 1, name = 'weight')"
   ]
  },
  {
   "cell_type": "code",
   "execution_count": 16,
   "id": "3912e048",
   "metadata": {},
   "outputs": [],
   "source": [
    "nx.write_gpickle(G, \"data/citeseer.gpickle\")"
   ]
  },
  {
   "cell_type": "markdown",
   "id": "f33e27da",
   "metadata": {},
   "source": [
    "# Pubmed Diabetes"
   ]
  },
  {
   "cell_type": "code",
   "execution_count": 35,
   "id": "81fbbbe8",
   "metadata": {},
   "outputs": [],
   "source": [
    "with open('data/pubmed/Pubmed-Diabetes.NODE.paper.tab','r') as f:\n",
    "    Lines=[x.strip().split('\\t') for x in f]"
   ]
  },
  {
   "cell_type": "code",
   "execution_count": 38,
   "id": "a74cc901",
   "metadata": {},
   "outputs": [],
   "source": [
    "labels = {}\n",
    "for line in Lines[2:]:\n",
    "    labels[line[0]] = line[1][line[1].find(\"=\")+1:]"
   ]
  },
  {
   "cell_type": "code",
   "execution_count": 55,
   "id": "d483ce01",
   "metadata": {},
   "outputs": [],
   "source": [
    "with open('data/pubmed/Pubmed-Diabetes.DIRECTED.cites.tab','r') as f:\n",
    "    Lines=[x.strip().split('\\t') for x in f]"
   ]
  },
  {
   "cell_type": "code",
   "execution_count": 56,
   "id": "d4d1babc",
   "metadata": {},
   "outputs": [],
   "source": [
    "edges = []\n",
    "for line in Lines[2:]:\n",
    "    edges.append([line[1][line[1].find(\":\")+1:], line[3][line[3].find(\":\")+1:]])"
   ]
  },
  {
   "cell_type": "code",
   "execution_count": 58,
   "id": "30200f72",
   "metadata": {},
   "outputs": [],
   "source": [
    "G = nx.Graph()\n",
    "G.add_edges_from(edges)\n",
    "nx.set_node_attributes(G, labels, \"label\")\n",
    "nx.set_edge_attributes(G, values = 1, name = 'weight')"
   ]
  },
  {
   "cell_type": "code",
   "execution_count": 59,
   "id": "34f6233c",
   "metadata": {},
   "outputs": [],
   "source": [
    "nx.write_gpickle(G, \"data/pubmed.gpickle\")"
   ]
  },
  {
   "cell_type": "markdown",
   "id": "e0d304b4",
   "metadata": {},
   "source": [
    "# Amazon Co-Purchase"
   ]
  },
  {
   "cell_type": "code",
   "execution_count": 88,
   "id": "10912cbe",
   "metadata": {},
   "outputs": [],
   "source": [
    "computers = np.load(\"data/amazon/amazon_electronics_computers.npz\")"
   ]
  },
  {
   "cell_type": "code",
   "execution_count": 89,
   "id": "50c48250",
   "metadata": {},
   "outputs": [
    {
     "data": {
      "text/plain": [
       "['adj_data',\n",
       " 'adj_indices',\n",
       " 'adj_indptr',\n",
       " 'adj_shape',\n",
       " 'attr_data',\n",
       " 'attr_indices',\n",
       " 'attr_indptr',\n",
       " 'attr_shape',\n",
       " 'labels',\n",
       " 'class_names']"
      ]
     },
     "execution_count": 89,
     "metadata": {},
     "output_type": "execute_result"
    }
   ],
   "source": [
    "computers.files"
   ]
  },
  {
   "cell_type": "code",
   "execution_count": 96,
   "id": "2b5f3f49",
   "metadata": {},
   "outputs": [
    {
     "data": {
      "text/plain": [
       "(287209,)"
      ]
     },
     "execution_count": 96,
     "metadata": {},
     "output_type": "execute_result"
    }
   ],
   "source": [
    "computers['adj_data'].shape"
   ]
  },
  {
   "cell_type": "code",
   "execution_count": 91,
   "id": "0061134d",
   "metadata": {},
   "outputs": [],
   "source": [
    "photo = np.load(\"data/amazon/amazon_electronics_photo.npz\")"
   ]
  },
  {
   "cell_type": "code",
   "execution_count": 92,
   "id": "c6ff5980",
   "metadata": {},
   "outputs": [
    {
     "data": {
      "text/plain": [
       "['adj_data',\n",
       " 'adj_indices',\n",
       " 'adj_indptr',\n",
       " 'adj_shape',\n",
       " 'attr_data',\n",
       " 'attr_indices',\n",
       " 'attr_indptr',\n",
       " 'attr_shape',\n",
       " 'labels',\n",
       " 'class_names']"
      ]
     },
     "execution_count": 92,
     "metadata": {},
     "output_type": "execute_result"
    }
   ],
   "source": [
    "photo.files"
   ]
  },
  {
   "cell_type": "code",
   "execution_count": 97,
   "id": "ddc559b1",
   "metadata": {},
   "outputs": [
    {
     "data": {
      "text/plain": [
       "(143663,)"
      ]
     },
     "execution_count": 97,
     "metadata": {},
     "output_type": "execute_result"
    }
   ],
   "source": [
    "photo['adj_data'].shape"
   ]
  },
  {
   "cell_type": "markdown",
   "id": "985b81e7",
   "metadata": {},
   "source": [
    "# BlogCatalog3"
   ]
  },
  {
   "cell_type": "code",
   "execution_count": 111,
   "id": "95a0dc26",
   "metadata": {},
   "outputs": [],
   "source": [
    "file = open(\"data/blogcatalog/edges.csv\", \"r\")"
   ]
  },
  {
   "cell_type": "code",
   "execution_count": 112,
   "id": "544ec581",
   "metadata": {},
   "outputs": [],
   "source": [
    "csvreader = csv.reader(file)"
   ]
  },
  {
   "cell_type": "code",
   "execution_count": 113,
   "id": "5f1b553b",
   "metadata": {},
   "outputs": [],
   "source": [
    "edges = []\n",
    "for row in csvreader:\n",
    "    edges.append(row)"
   ]
  },
  {
   "cell_type": "code",
   "execution_count": 127,
   "id": "0091f707",
   "metadata": {},
   "outputs": [],
   "source": [
    "file = open(\"data/blogcatalog/group-edges.csv\", \"r\")"
   ]
  },
  {
   "cell_type": "code",
   "execution_count": 128,
   "id": "8e76dce3",
   "metadata": {},
   "outputs": [],
   "source": [
    "csvreader = csv.reader(file)"
   ]
  },
  {
   "cell_type": "code",
   "execution_count": 129,
   "id": "40c30434",
   "metadata": {},
   "outputs": [],
   "source": [
    "labels = {}\n",
    "for row in csvreader:\n",
    "    labels[row[0]] = row[1]"
   ]
  },
  {
   "cell_type": "code",
   "execution_count": 130,
   "id": "4fa41f50",
   "metadata": {},
   "outputs": [],
   "source": [
    "G = nx.Graph()\n",
    "G.add_edges_from(edges)\n",
    "nx.set_node_attributes(G, labels, \"label\")\n",
    "nx.set_edge_attributes(G, values = 1, name = 'weight')"
   ]
  },
  {
   "cell_type": "code",
   "execution_count": 131,
   "id": "9aee9815",
   "metadata": {},
   "outputs": [],
   "source": [
    "nx.write_gpickle(G, \"data/blogcatalog.gpickle\")"
   ]
  },
  {
   "cell_type": "markdown",
   "id": "60b4c5e7",
   "metadata": {},
   "source": [
    "# Github"
   ]
  },
  {
   "cell_type": "code",
   "execution_count": 174,
   "id": "c8d712b5",
   "metadata": {},
   "outputs": [],
   "source": [
    "github = np.load(\"data/github/github.npz\")"
   ]
  },
  {
   "cell_type": "code",
   "execution_count": 175,
   "id": "f07d3dd5",
   "metadata": {},
   "outputs": [],
   "source": [
    "G = nx.Graph()\n",
    "G.add_edges_from(github[\"edges\"])"
   ]
  },
  {
   "cell_type": "code",
   "execution_count": 176,
   "id": "a7960a71",
   "metadata": {},
   "outputs": [],
   "source": [
    "df = pd.DataFrame(github[\"target\"])\n",
    "df.columns = [\"label\"]"
   ]
  },
  {
   "cell_type": "code",
   "execution_count": 177,
   "id": "fa567649",
   "metadata": {},
   "outputs": [
    {
     "name": "stderr",
     "output_type": "stream",
     "text": [
      "/opt/anaconda3/lib/python3.7/site-packages/ipykernel_launcher.py:1: FutureWarning: The pandas.np module is deprecated and will be removed from pandas in a future version. Import numpy directly instead\n",
      "  \"\"\"Entry point for launching an IPython kernel.\n"
     ]
    }
   ],
   "source": [
    "features = pd.DataFrame(pd.np.column_stack([github[\"features\"]])).T.to_dict('list')"
   ]
  },
  {
   "cell_type": "code",
   "execution_count": 178,
   "id": "9f4b679a",
   "metadata": {},
   "outputs": [],
   "source": [
    "nx.set_node_attributes(G, pd.Series(df.label, index=df.index).to_dict(), 'label')"
   ]
  },
  {
   "cell_type": "code",
   "execution_count": 179,
   "id": "e7a45bf7",
   "metadata": {},
   "outputs": [],
   "source": [
    "nx.set_node_attributes(G, features, \"features\")"
   ]
  },
  {
   "cell_type": "code",
   "execution_count": 180,
   "id": "80cf9886",
   "metadata": {},
   "outputs": [],
   "source": [
    "nx.set_edge_attributes(G, values = 1, name = 'weight')"
   ]
  },
  {
   "cell_type": "code",
   "execution_count": 181,
   "id": "800341dd",
   "metadata": {},
   "outputs": [],
   "source": [
    "nx.write_gpickle(G, \"data/github.gpickle\")"
   ]
  },
  {
   "cell_type": "code",
   "execution_count": null,
   "id": "65d8b41f",
   "metadata": {},
   "outputs": [],
   "source": []
  }
 ],
 "metadata": {
  "kernelspec": {
   "display_name": "Python 3",
   "language": "python",
   "name": "python3"
  },
  "language_info": {
   "codemirror_mode": {
    "name": "ipython",
    "version": 3
   },
   "file_extension": ".py",
   "mimetype": "text/x-python",
   "name": "python",
   "nbconvert_exporter": "python",
   "pygments_lexer": "ipython3",
   "version": "3.7.10"
  }
 },
 "nbformat": 4,
 "nbformat_minor": 5
}
