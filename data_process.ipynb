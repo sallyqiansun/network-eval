{
 "cells": [
  {
   "cell_type": "code",
   "execution_count": 1,
   "id": "8a436f8e",
   "metadata": {},
   "outputs": [],
   "source": [
    "import numpy as np\n",
    "from data_process import *\n",
    "import networkx as nx"
   ]
  },
  {
   "cell_type": "markdown",
   "id": "681779f2",
   "metadata": {},
   "source": [
    "# Cora"
   ]
  },
  {
   "cell_type": "code",
   "execution_count": null,
   "id": "fa2355ce",
   "metadata": {},
   "outputs": [],
   "source": [
    "G = nx.Graph()\n",
    "with open('data/cora/cora.content','r') as f:\n",
    "    Lines=[x.strip().split('\\t') for x in f]\n",
    "for i in range(len(Lines)):\n",
    "    lines = Lines[i]\n",
    "    node = int(lines[0])\n",
    "    features = list(map(int, lines[1:-1]))\n",
    "    label = lines[-1]\n",
    "    G.add_node(node, feature = features, label = label)"
   ]
  },
  {
   "cell_type": "code",
   "execution_count": null,
   "id": "1066a32a",
   "metadata": {},
   "outputs": [],
   "source": [
    "with open('data/cora/cora.cites','r') as f:\n",
    "    Lines=[x.strip().split('\\t') for x in f]\n",
    "for i in range(len(Lines)):\n",
    "    lines = Lines[i]\n",
    "    G.add_edge(int(lines[0]), int(lines[1]), weight=1)"
   ]
  },
  {
   "cell_type": "code",
   "execution_count": null,
   "id": "41896ba6",
   "metadata": {},
   "outputs": [],
   "source": [
    "nx.write_gpickle(G, \"data/cora.gpickle\")"
   ]
  },
  {
   "cell_type": "markdown",
   "id": "41fc22cb",
   "metadata": {},
   "source": [
    "# Homo-sapiens PPI "
   ]
  },
  {
   "cell_type": "code",
   "execution_count": null,
   "id": "04885e78",
   "metadata": {},
   "outputs": [],
   "source": [
    "ppi = np.load(\"data/ppi/homo_sapiens.npz\")"
   ]
  },
  {
   "cell_type": "code",
   "execution_count": null,
   "id": "295f61e4",
   "metadata": {},
   "outputs": [],
   "source": [
    "G = nx.Graph()\n",
    "G.add_edges_from(ppi[\"edge_list\"])"
   ]
  },
  {
   "cell_type": "code",
   "execution_count": null,
   "id": "4c1afcc8",
   "metadata": {},
   "outputs": [],
   "source": [
    "df = pd.DataFrame(ppi[\"group\"])\n",
    "num = np.arange(1, 51)\n",
    "df.columns = [str(i) for i in np.arange(1, 51)]"
   ]
  },
  {
   "cell_type": "code",
   "execution_count": null,
   "id": "77eeacbf",
   "metadata": {},
   "outputs": [],
   "source": [
    "df['label'] = df.idxmax(axis=1)"
   ]
  },
  {
   "cell_type": "code",
   "execution_count": null,
   "id": "c50cc3e4",
   "metadata": {},
   "outputs": [],
   "source": [
    "df.index.name = 'id'"
   ]
  },
  {
   "cell_type": "code",
   "execution_count": null,
   "id": "fc3b7262",
   "metadata": {},
   "outputs": [],
   "source": [
    "nx.set_node_attributes(G, pd.Series(df.label, index=df.index).to_dict(), 'label')"
   ]
  },
  {
   "cell_type": "code",
   "execution_count": null,
   "id": "9252a00f",
   "metadata": {},
   "outputs": [],
   "source": [
    "nx.set_edge_attributes(G, values = 1, name = 'weight')"
   ]
  },
  {
   "cell_type": "code",
   "execution_count": null,
   "id": "4b877d64",
   "metadata": {},
   "outputs": [],
   "source": [
    "n_nodes = G.number_of_nodes()\n",
    "data = [list(range(G.number_of_nodes()))]\n",
    "\n",
    "def one_hot(data, n_nodes):\n",
    "    targets = np.array(data).reshape(-1)\n",
    "    return np.eye(n_nodes)[targets]\n",
    "\n",
    "out = one_hot(data, n_nodes)"
   ]
  },
  {
   "cell_type": "code",
   "execution_count": null,
   "id": "af6a6dc8",
   "metadata": {},
   "outputs": [],
   "source": [
    "for i in range(out.shape[0]):\n",
    "    features = list(out[i,:])\n",
    "    nx.set_node_attributes(G, {i: features}, name=\"feature\")"
   ]
  },
  {
   "cell_type": "code",
   "execution_count": null,
   "id": "3e0673fc",
   "metadata": {},
   "outputs": [],
   "source": [
    "nx.write_gpickle(G, \"data/ppi.gpickle\")"
   ]
  },
  {
   "cell_type": "markdown",
   "id": "d5403575",
   "metadata": {},
   "source": [
    "# CiteSeer"
   ]
  },
  {
   "cell_type": "code",
   "execution_count": 75,
   "id": "43658302",
   "metadata": {
    "scrolled": true
   },
   "outputs": [],
   "source": [
    "f = open(\"data/citeseer/citeseer.content\", \"r\")\n",
    "Lines = f.readlines()"
   ]
  },
  {
   "cell_type": "code",
   "execution_count": 77,
   "id": "f5cda5b3",
   "metadata": {},
   "outputs": [],
   "source": [
    "original_edges = []\n",
    "for line in Lines:\n",
    "    original_nodes.append(line.split()[0])\n",
    "\n",
    "relabled_nodes = {k:original_nodes.index(k) for k in original_nodes}\n",
    "\n",
    "labels = {}\n",
    "features = {}\n",
    "G = nx.Graph()\n",
    "for line in Lines:\n",
    "    node = relabled_nodes[line.split()[0]]\n",
    "    G.add_node(node, feature=line.split()[1:-1], label=line.split()[-1])"
   ]
  },
  {
   "cell_type": "code",
   "execution_count": 78,
   "id": "63b3399b",
   "metadata": {},
   "outputs": [],
   "source": [
    "f = open(\"data/citeseer/citeseer.cites\", \"r\")\n",
    "Lines = f.readlines()"
   ]
  },
  {
   "cell_type": "code",
   "execution_count": 79,
   "id": "41fe8ffa",
   "metadata": {},
   "outputs": [],
   "source": [
    "# convert all unique strings to numeric values\n",
    "edges = []\n",
    "for line in Lines:\n",
    "    start = str(relabled_dict[line.split()[0]])\n",
    "    end = str(relabled_dict[line.split()[1]])\n",
    "    edges.append([start, end])"
   ]
  },
  {
   "cell_type": "code",
   "execution_count": 80,
   "id": "6f40fa47",
   "metadata": {},
   "outputs": [],
   "source": [
    "G.add_edges_from(edges)\n",
    "nx.set_edge_attributes(G, values = 1, name = 'weight')"
   ]
  },
  {
   "cell_type": "code",
   "execution_count": 92,
   "id": "a35d1f1d",
   "metadata": {},
   "outputs": [
    {
     "data": {
      "text/plain": [
       "3703"
      ]
     },
     "execution_count": 92,
     "metadata": {},
     "output_type": "execute_result"
    }
   ],
   "source": [
    "len(nx.get_node_attributes(G, \"feature\")[0])"
   ]
  },
  {
   "cell_type": "code",
   "execution_count": 93,
   "id": "e31257ef",
   "metadata": {},
   "outputs": [
    {
     "data": {
      "text/plain": [
       "6639"
      ]
     },
     "execution_count": 93,
     "metadata": {},
     "output_type": "execute_result"
    }
   ],
   "source": [
    "G.number_of_nodes()"
   ]
  },
  {
   "cell_type": "code",
   "execution_count": 82,
   "id": "3912e048",
   "metadata": {},
   "outputs": [],
   "source": [
    "nx.write_gpickle(G, \"data/citeseer.gpickle\")"
   ]
  },
  {
   "cell_type": "markdown",
   "id": "f33e27da",
   "metadata": {},
   "source": [
    "# Pubmed Diabetes"
   ]
  },
  {
   "cell_type": "code",
   "execution_count": null,
   "id": "81fbbbe8",
   "metadata": {},
   "outputs": [],
   "source": [
    "with open('data/pubmed/Pubmed-Diabetes.NODE.paper.tab','r') as f:\n",
    "    Lines=[x.strip().split('\\t') for x in f]"
   ]
  },
  {
   "cell_type": "code",
   "execution_count": null,
   "id": "98e22321",
   "metadata": {},
   "outputs": [],
   "source": [
    "keys = set()\n",
    "for features in all_features:\n",
    "    keys = keys | set(features.keys())"
   ]
  },
  {
   "cell_type": "code",
   "execution_count": null,
   "id": "a74cc901",
   "metadata": {},
   "outputs": [],
   "source": [
    "G = nx.Graph()\n",
    "features = {}\n",
    "all_features = []\n",
    "for line in Lines[2:]:\n",
    "    G.add_node(int(line[0]), label = line[1][line[1].find(\"=\")+1:])\n",
    "    features = dict.fromkeys(list(keys), 0)\n",
    "    for feature in line[2:-1]:\n",
    "        features[feature[:feature.find(\"=\")]] = float(feature[feature.find(\"=\")+1:])\n",
    "    feature = list(features.values())\n",
    "    nx.set_node_attributes(G, {int(line[0]): feature}, name=\"feature\")"
   ]
  },
  {
   "cell_type": "code",
   "execution_count": null,
   "id": "d483ce01",
   "metadata": {},
   "outputs": [],
   "source": [
    "with open('data/pubmed/Pubmed-Diabetes.DIRECTED.cites.tab','r') as f:\n",
    "    Lines=[x.strip().split('\\t') for x in f]"
   ]
  },
  {
   "cell_type": "code",
   "execution_count": null,
   "id": "d4d1babc",
   "metadata": {},
   "outputs": [],
   "source": [
    "edges = []\n",
    "for line in Lines[2:]:\n",
    "    edges.append([int(line[1][line[1].find(\":\")+1:]), int(line[3][line[3].find(\":\")+1:])])\n",
    "G.add_edges_from(edges)\n",
    "nx.set_edge_attributes(G, values = 1, name = 'weight')"
   ]
  },
  {
   "cell_type": "code",
   "execution_count": null,
   "id": "34f6233c",
   "metadata": {},
   "outputs": [],
   "source": [
    "nx.write_gpickle(G, \"data/pubmed.gpickle\")"
   ]
  },
  {
   "cell_type": "markdown",
   "id": "e0d304b4",
   "metadata": {},
   "source": [
    "# Amazon Co-Purchase"
   ]
  },
  {
   "cell_type": "code",
   "execution_count": 2,
   "id": "10912cbe",
   "metadata": {},
   "outputs": [],
   "source": [
    "computers = np.load(\"data/amazon/amazon_electronics_computers.npz\")"
   ]
  },
  {
   "cell_type": "code",
   "execution_count": 3,
   "id": "7bcfeb1c",
   "metadata": {},
   "outputs": [
    {
     "name": "stderr",
     "output_type": "stream",
     "text": [
      "Using backend: pytorch\n"
     ]
    }
   ],
   "source": [
    "import dgl\n",
    "dataset = dgl.data.AmazonCoBuyComputerDataset()"
   ]
  },
  {
   "cell_type": "code",
   "execution_count": 4,
   "id": "d46fe2c1",
   "metadata": {},
   "outputs": [],
   "source": [
    "G = nx.Graph(dgl.to_networkx(dataset[0], node_attrs=dataset[0].ndata, edge_attrs=dataset[0].edata))\n",
    "for node in G.nodes:\n",
    "    nx.set_node_attributes(G, {node: G.nodes[node]['feat'].tolist()}, name=\"feature\")\n",
    "    del G.node[node]['feat']\n",
    "    nx.set_node_attributes(G, {node: G.nodes[node]['label'].tolist()}, name=\"label\")\n",
    "nx.set_edge_attributes(G, values = 1, name = 'weight')"
   ]
  },
  {
   "cell_type": "code",
   "execution_count": 5,
   "id": "a90e329c",
   "metadata": {},
   "outputs": [],
   "source": [
    "nx.write_gpickle(G, \"data/amazon.gpickle\")"
   ]
  },
  {
   "cell_type": "markdown",
   "id": "985b81e7",
   "metadata": {},
   "source": [
    "# BlogCatalog3"
   ]
  },
  {
   "cell_type": "code",
   "execution_count": null,
   "id": "db2271f5",
   "metadata": {},
   "outputs": [],
   "source": [
    "G = nx.Graph()\n",
    "file = open(\"data/blogcatalog/nodes.csv\", \"r\")\n",
    "csvreader = csv.reader(file)\n",
    "for row in csvreader:\n",
    "    G.add_node(int(row[0]))"
   ]
  },
  {
   "cell_type": "code",
   "execution_count": null,
   "id": "c6871ec2",
   "metadata": {},
   "outputs": [],
   "source": [
    "for node in G.nodes:\n",
    "    feature = [0] * len(G.nodes)\n",
    "    feature[node-1] = 1\n",
    "    nx.set_node_attributes(G, {node: feature}, name=\"feature\")"
   ]
  },
  {
   "cell_type": "code",
   "execution_count": null,
   "id": "5f1b553b",
   "metadata": {},
   "outputs": [],
   "source": [
    "file = open(\"data/blogcatalog/edges.csv\", \"r\")\n",
    "csvreader = csv.reader(file)\n",
    "edges = []\n",
    "for row in csvreader:\n",
    "    edges.append(list(map(int, row)))\n",
    "G.add_edges_from(edges, weight=1)"
   ]
  },
  {
   "cell_type": "code",
   "execution_count": null,
   "id": "0091f707",
   "metadata": {},
   "outputs": [],
   "source": [
    "file = open(\"data/blogcatalog/group-edges.csv\", \"r\")\n",
    "csvreader = csv.reader(file)\n",
    "for row in csvreader:\n",
    "    nx.set_node_attributes(G, {int(row[0]): row[1]}, name=\"label\")"
   ]
  },
  {
   "cell_type": "code",
   "execution_count": null,
   "id": "9aee9815",
   "metadata": {},
   "outputs": [],
   "source": [
    "nx.write_gpickle(G, \"data/blogcatalog.gpickle\")"
   ]
  },
  {
   "cell_type": "markdown",
   "id": "60b4c5e7",
   "metadata": {},
   "source": [
    "# Github"
   ]
  },
  {
   "cell_type": "code",
   "execution_count": null,
   "id": "c8d712b5",
   "metadata": {},
   "outputs": [],
   "source": [
    "github = np.load(\"data/github/github.npz\")"
   ]
  },
  {
   "cell_type": "code",
   "execution_count": null,
   "id": "f07d3dd5",
   "metadata": {},
   "outputs": [],
   "source": [
    "G = nx.Graph()\n",
    "G.add_edges_from(github[\"edges\"])"
   ]
  },
  {
   "cell_type": "code",
   "execution_count": null,
   "id": "fa567649",
   "metadata": {},
   "outputs": [],
   "source": [
    "features = pd.DataFrame(pd.np.column_stack([github[\"features\"]])).T.to_dict('list')"
   ]
  },
  {
   "cell_type": "code",
   "execution_count": null,
   "id": "9f4b679a",
   "metadata": {},
   "outputs": [],
   "source": [
    "label = {}\n",
    "for i in range(len(list(github[\"target\"]))):\n",
    "    label[i] = list(github[\"target\"])[i]"
   ]
  },
  {
   "cell_type": "code",
   "execution_count": null,
   "id": "e7a45bf7",
   "metadata": {},
   "outputs": [],
   "source": [
    "nx.set_node_attributes(G, features, \"feature\")\n",
    "nx.set_node_attributes(G, label, \"label\")\n",
    "nx.set_edge_attributes(G, values = 1, name = 'weight')"
   ]
  },
  {
   "cell_type": "code",
   "execution_count": null,
   "id": "800341dd",
   "metadata": {},
   "outputs": [],
   "source": [
    "nx.write_gpickle(G, \"data/github.gpickle\")"
   ]
  }
 ],
 "metadata": {
  "kernelspec": {
   "display_name": "Python 3",
   "language": "python",
   "name": "python3"
  },
  "language_info": {
   "codemirror_mode": {
    "name": "ipython",
    "version": 3
   },
   "file_extension": ".py",
   "mimetype": "text/x-python",
   "name": "python",
   "nbconvert_exporter": "python",
   "pygments_lexer": "ipython3",
   "version": "3.7.10"
  }
 },
 "nbformat": 4,
 "nbformat_minor": 5
}
