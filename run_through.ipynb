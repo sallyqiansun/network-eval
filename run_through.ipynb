{
 "cells": [
  {
   "cell_type": "code",
   "execution_count": 1,
   "id": "dcc1851d",
   "metadata": {},
   "outputs": [
    {
     "name": "stdout",
     "output_type": "stream",
     "text": [
      "WARNING:tensorflow:From /opt/anaconda3/lib/python3.7/site-packages/tensorflow/python/compat/v2_compat.py:111: disable_resource_variables (from tensorflow.python.ops.variable_scope) is deprecated and will be removed in a future version.\n",
      "Instructions for updating:\n",
      "non-resource variables are not supported in the long term\n"
     ]
    }
   ],
   "source": [
    "import json\n",
    "import sys\n",
    "import fit\n",
    "import task\n",
    "import evaluate\n",
    "import visualize\n",
    "import networkx as nx\n",
    "import matplotlib.pyplot as plt"
   ]
  },
  {
   "cell_type": "markdown",
   "id": "49e0bb5d",
   "metadata": {},
   "source": [
    "# Write parameters to config.json"
   ]
  },
  {
   "cell_type": "code",
   "execution_count": 2,
   "id": "eb663521",
   "metadata": {},
   "outputs": [
    {
     "name": "stdout",
     "output_type": "stream",
     "text": [
      "Write successful\n"
     ]
    }
   ],
   "source": [
    "config = \\\n",
    "{\n",
    "    \"data\": \"cora\",\n",
    "    \"weighted\": \"false\",\n",
    "    \"directed\": \"false\",\n",
    "    \"method\": \"sbm\",\n",
    "    \"task\": \"NodeClassification\",\n",
    "    \"emb-path\": \"embedding/cora-sbm.emb\",\n",
    "    \"eval-path\": \"evaluation/cora-sbm.txt\",\n",
    "    \"train_percent\": [\n",
    "        0.1,\n",
    "        0.5,\n",
    "        0.8\n",
    "    ],\n",
    "    \"dimensions\": 128,\n",
    "    \"iter\": 1,\n",
    "    \"seed\": 1,\n",
    "    \"p\": 1,\n",
    "    \"q\": 1,\n",
    "    \"window-size\": 10,\n",
    "    \"num-walks\": 10,\n",
    "    \"walk-size\": 80,\n",
    "    \"num-shuffles\": 1,\n",
    "    \"order\": 10,\n",
    "    \"edge-feature\": \"hadamard\",\n",
    "    \"K\": 5, \n",
    "    \"batch-size\": 128, \n",
    "    \"batch\": 300,\n",
    "    \"proximity\": \"first-order\", \n",
    "    \"learning-rate\": 0.05, \n",
    "    \"fig-path\": \"plots/cora-sbm.png\"\n",
    "}\n",
    "\n",
    "with open(\"config.json\", \"w\") as jsonfile:\n",
    "    jsonfile.write(json.dumps(config))\n",
    "    print(\"Write successful\")"
   ]
  },
  {
   "cell_type": "markdown",
   "id": "324cfba0",
   "metadata": {},
   "source": [
    "# config.json"
   ]
  },
  {
   "cell_type": "code",
   "execution_count": 3,
   "id": "a371cd82",
   "metadata": {},
   "outputs": [],
   "source": [
    "config_file = open(\"config.json\", \"r\")\n",
    "config = json.load(config_file)"
   ]
  },
  {
   "cell_type": "markdown",
   "id": "5e550507",
   "metadata": {},
   "source": [
    "# Read data"
   ]
  },
  {
   "cell_type": "code",
   "execution_count": 4,
   "id": "540112c5",
   "metadata": {},
   "outputs": [],
   "source": [
    "data = config['data']"
   ]
  },
  {
   "cell_type": "code",
   "execution_count": 5,
   "id": "1e50ae16",
   "metadata": {},
   "outputs": [],
   "source": [
    "data_path = \"data/\" + data + \".gpickle\"\n",
    "G = nx.read_gpickle(data_path)"
   ]
  },
  {
   "cell_type": "code",
   "execution_count": 6,
   "id": "cd8462a5",
   "metadata": {},
   "outputs": [
    {
     "data": {
      "text/plain": [
       "2708"
      ]
     },
     "execution_count": 6,
     "metadata": {},
     "output_type": "execute_result"
    }
   ],
   "source": [
    "G.number_of_nodes()"
   ]
  },
  {
   "cell_type": "code",
   "execution_count": 7,
   "id": "a51d00a0",
   "metadata": {},
   "outputs": [
    {
     "data": {
      "text/plain": [
       "5278"
      ]
     },
     "execution_count": 7,
     "metadata": {},
     "output_type": "execute_result"
    }
   ],
   "source": [
    "G.number_of_edges()"
   ]
  },
  {
   "cell_type": "code",
   "execution_count": 8,
   "id": "7a6c2fa0",
   "metadata": {},
   "outputs": [],
   "source": [
    "nx.draw(G, with_labels=True)"
   ]
  },
  {
   "cell_type": "code",
   "execution_count": null,
   "id": "00365c0d",
   "metadata": {},
   "outputs": [],
   "source": [
    "fit.model(config, G)"
   ]
  },
  {
   "cell_type": "code",
   "execution_count": null,
   "id": "e031e175",
   "metadata": {
    "scrolled": true
   },
   "outputs": [],
   "source": [
    "result = task.train(G, config)"
   ]
  },
  {
   "cell_type": "code",
   "execution_count": null,
   "id": "cbbc57d0",
   "metadata": {
    "scrolled": true
   },
   "outputs": [],
   "source": [
    "visualize.visualize(result, config)"
   ]
  },
  {
   "cell_type": "code",
   "execution_count": null,
   "id": "cb7619f8",
   "metadata": {},
   "outputs": [],
   "source": []
  }
 ],
 "metadata": {
  "kernelspec": {
   "display_name": "Python 3",
   "language": "python",
   "name": "python3"
  },
  "language_info": {
   "codemirror_mode": {
    "name": "ipython",
    "version": 3
   },
   "file_extension": ".py",
   "mimetype": "text/x-python",
   "name": "python",
   "nbconvert_exporter": "python",
   "pygments_lexer": "ipython3",
   "version": "3.7.10"
  }
 },
 "nbformat": 4,
 "nbformat_minor": 5
}
