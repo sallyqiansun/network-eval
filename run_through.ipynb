{
 "cells": [
  {
   "cell_type": "code",
   "execution_count": 1,
   "id": "dcc1851d",
   "metadata": {},
   "outputs": [
    {
     "name": "stdout",
     "output_type": "stream",
     "text": [
      "WARNING:tensorflow:From /opt/anaconda3/lib/python3.7/site-packages/tensorflow/python/compat/v2_compat.py:111: disable_resource_variables (from tensorflow.python.ops.variable_scope) is deprecated and will be removed in a future version.\n",
      "Instructions for updating:\n",
      "non-resource variables are not supported in the long term\n"
     ]
    }
   ],
   "source": [
    "import json\n",
    "import sys\n",
    "import fit\n",
    "import task\n",
    "import evaluate\n",
    "import visualize\n",
    "import networkx as nx\n",
    "import matplotlib.pyplot as plt"
   ]
  },
  {
   "cell_type": "markdown",
   "id": "52c6c443",
   "metadata": {},
   "source": [
    "# Write parameters to config.json"
   ]
  },
  {
   "cell_type": "code",
   "execution_count": 24,
   "id": "33c817f2",
   "metadata": {},
   "outputs": [
    {
     "name": "stdout",
     "output_type": "stream",
     "text": [
      "Write successful\n"
     ]
    }
   ],
   "source": [
    "config = \\\n",
    "{\n",
    "    \"data\": \"karate\",\n",
    "    \"weighted\": \"false\",\n",
    "    \"directed\": \"false\",\n",
    "    \"method\": \"node2vec\",\n",
    "    \"task\": \"LinkPrediction\",\n",
    "    \"emb-path\": \"embedding/karate-n2v.emb\",\n",
    "    \"eval-path\": \"evaluation/karate-grarep.txt\",\n",
    "    \"train_percent\": [\n",
    "        0.1,\n",
    "        0.5,\n",
    "        0.9\n",
    "    ],\n",
    "    \"dimensions\": 10,\n",
    "    \"iter\": 1,\n",
    "    \"seed\": 1,\n",
    "    \"p\": 1,\n",
    "    \"q\": 1,\n",
    "    \"window-size\": 10,\n",
    "    \"num-walks\": 10,\n",
    "    \"walk-size\": 80,\n",
    "    \"num-shuffles\": 2,\n",
    "    \"order\": 10,\n",
    "    \"fig-path\": \"plots/karate-n2v.png\"\n",
    "}\n",
    "\n",
    "with open(\"config.json\", \"w\") as jsonfile:\n",
    "    jsonfile.write(json.dumps(config))\n",
    "    print(\"Write successful\")"
   ]
  },
  {
   "cell_type": "markdown",
   "id": "a997ddce",
   "metadata": {},
   "source": [
    "# config.json"
   ]
  },
  {
   "cell_type": "code",
   "execution_count": 25,
   "id": "3d7f9e24",
   "metadata": {},
   "outputs": [],
   "source": [
    "config_file = open(\"config.json\", \"r\")\n",
    "config = json.load(config_file)"
   ]
  },
  {
   "cell_type": "markdown",
   "id": "1c3611e8",
   "metadata": {},
   "source": [
    "# Read data"
   ]
  },
  {
   "cell_type": "code",
   "execution_count": 4,
   "id": "defbd938",
   "metadata": {},
   "outputs": [],
   "source": [
    "data = config['data']"
   ]
  },
  {
   "cell_type": "code",
   "execution_count": 5,
   "id": "1e50ae16",
   "metadata": {},
   "outputs": [],
   "source": [
    "data_path = \"examples/\" + data + \".gpickle\"\n",
    "G = nx.read_gpickle(data_path)"
   ]
  },
  {
   "cell_type": "code",
   "execution_count": 6,
   "id": "cd8462a5",
   "metadata": {},
   "outputs": [
    {
     "data": {
      "text/plain": [
       "2708"
      ]
     },
     "execution_count": 6,
     "metadata": {},
     "output_type": "execute_result"
    }
   ],
   "source": [
    "G.number_of_nodes()"
   ]
  },
  {
   "cell_type": "code",
   "execution_count": 7,
   "id": "fedb4e21",
   "metadata": {},
   "outputs": [
    {
     "data": {
      "text/plain": [
       "5278"
      ]
     },
     "execution_count": 7,
     "metadata": {},
     "output_type": "execute_result"
    }
   ],
   "source": [
    "G.number_of_edges()"
   ]
  },
  {
   "cell_type": "code",
   "execution_count": 8,
   "id": "071fc8b0",
   "metadata": {},
   "outputs": [],
   "source": [
    "# nx.draw(G, with_labels=True)"
   ]
  },
  {
   "cell_type": "code",
   "execution_count": 26,
   "id": "cbbc57d0",
   "metadata": {
    "scrolled": true
   },
   "outputs": [
    {
     "data": {
      "image/png": "[encoded data removed]",
      "text/plain": [
       "<Figure size 720x720 with 1 Axes>"
      ]
     },
     "metadata": {
      "needs_background": "light"
     },
     "output_type": "display_data"
    }
   ],
   "source": [
    "visualize.visualize(config)"
   ]
  },
  {
   "cell_type": "code",
   "execution_count": null,
   "id": "400ac017",
   "metadata": {},
   "outputs": [],
   "source": [
    "print(config['directed'])"
   ]
  },
  {
   "cell_type": "code",
   "execution_count": null,
   "id": "e1fa99e4",
   "metadata": {},
   "outputs": [],
   "source": [
    "config['directed'] == False"
   ]
  },
  {
   "cell_type": "code",
   "execution_count": null,
   "id": "c0a8d2ca",
   "metadata": {},
   "outputs": [],
   "source": []
  }
 ],
 "metadata": {
  "kernelspec": {
   "display_name": "Python 3",
   "language": "python",
   "name": "python3"
  },
  "language_info": {
   "codemirror_mode": {
    "name": "ipython",
    "version": 3
   },
   "file_extension": ".py",
   "mimetype": "text/x-python",
   "name": "python",
   "nbconvert_exporter": "python",
   "pygments_lexer": "ipython3",
   "version": "3.7.10"
  }
 },
 "nbformat": 4,
 "nbformat_minor": 5
}
